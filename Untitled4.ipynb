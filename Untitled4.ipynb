{
 "cells": [
  {
   "cell_type": "code",
   "execution_count": 13,
   "id": "7fe5dd27-6889-466d-a0c5-d5906842f92f",
   "metadata": {},
   "outputs": [],
   "source": [
    "import pandas as pd\n",
    "import numpy as np \n",
    "import matplotlib.pyplot as plt\n",
    "import seaborn as sns"
   ]
  },
  {
   "cell_type": "code",
   "execution_count": 15,
   "id": "966f34df-c07f-4946-b3f6-de09cdda7591",
   "metadata": {},
   "outputs": [
    {
     "data": {
      "text/html": [
       "<div>\n",
       "<style scoped>\n",
       "    .dataframe tbody tr th:only-of-type {\n",
       "        vertical-align: middle;\n",
       "    }\n",
       "\n",
       "    .dataframe tbody tr th {\n",
       "        vertical-align: top;\n",
       "    }\n",
       "\n",
       "    .dataframe thead th {\n",
       "        text-align: right;\n",
       "    }\n",
       "</style>\n",
       "<table border=\"1\" class=\"dataframe\">\n",
       "  <thead>\n",
       "    <tr style=\"text-align: right;\">\n",
       "      <th></th>\n",
       "      <th>show_id</th>\n",
       "      <th>title</th>\n",
       "      <th>director</th>\n",
       "      <th>cast</th>\n",
       "      <th>country</th>\n",
       "      <th>date_added</th>\n",
       "      <th>release_year</th>\n",
       "      <th>rating</th>\n",
       "      <th>duration</th>\n",
       "      <th>listed_in</th>\n",
       "      <th>description</th>\n",
       "      <th>type</th>\n",
       "    </tr>\n",
       "  </thead>\n",
       "  <tbody>\n",
       "    <tr>\n",
       "      <th>0</th>\n",
       "      <td>81193313</td>\n",
       "      <td>Chocolate</td>\n",
       "      <td>NaN</td>\n",
       "      <td>Ha Ji-won, Yoon Kye-sang, Jang Seung-jo, Kang ...</td>\n",
       "      <td>South Korea</td>\n",
       "      <td>November 30, 2019</td>\n",
       "      <td>2019</td>\n",
       "      <td>TV-14</td>\n",
       "      <td>1 Season</td>\n",
       "      <td>International TV Shows, Korean TV Shows, Roman...</td>\n",
       "      <td>Brought together by meaningful meals in the pa...</td>\n",
       "      <td>TV Show</td>\n",
       "    </tr>\n",
       "    <tr>\n",
       "      <th>1</th>\n",
       "      <td>81197050</td>\n",
       "      <td>Guatemala: Heart of the Mayan World</td>\n",
       "      <td>Luis Ara, Ignacio Jaunsolo</td>\n",
       "      <td>Christian Morales</td>\n",
       "      <td>NaN</td>\n",
       "      <td>November 30, 2019</td>\n",
       "      <td>2019</td>\n",
       "      <td>TV-G</td>\n",
       "      <td>67 min</td>\n",
       "      <td>Documentaries, International Movies</td>\n",
       "      <td>From Sierra de las Minas to Esquipulas, explor...</td>\n",
       "      <td>Movie</td>\n",
       "    </tr>\n",
       "    <tr>\n",
       "      <th>2</th>\n",
       "      <td>81213894</td>\n",
       "      <td>The Zoya Factor</td>\n",
       "      <td>Abhishek Sharma</td>\n",
       "      <td>Sonam Kapoor, Dulquer Salmaan, Sanjay Kapoor, ...</td>\n",
       "      <td>India</td>\n",
       "      <td>November 30, 2019</td>\n",
       "      <td>2019</td>\n",
       "      <td>TV-14</td>\n",
       "      <td>135 min</td>\n",
       "      <td>Comedies, Dramas, International Movies</td>\n",
       "      <td>A goofy copywriter unwittingly convinces the I...</td>\n",
       "      <td>Movie</td>\n",
       "    </tr>\n",
       "    <tr>\n",
       "      <th>3</th>\n",
       "      <td>81082007</td>\n",
       "      <td>Atlantics</td>\n",
       "      <td>Mati Diop</td>\n",
       "      <td>Mama Sane, Amadou Mbow, Ibrahima Traore, Nicol...</td>\n",
       "      <td>France, Senegal, Belgium</td>\n",
       "      <td>November 29, 2019</td>\n",
       "      <td>2019</td>\n",
       "      <td>TV-14</td>\n",
       "      <td>106 min</td>\n",
       "      <td>Dramas, Independent Movies, International Movies</td>\n",
       "      <td>Arranged to marry a rich man, young Ada is cru...</td>\n",
       "      <td>Movie</td>\n",
       "    </tr>\n",
       "    <tr>\n",
       "      <th>4</th>\n",
       "      <td>80213643</td>\n",
       "      <td>Chip and Potato</td>\n",
       "      <td>NaN</td>\n",
       "      <td>Abigail Oliver, Andrea Libman, Briana Buckmast...</td>\n",
       "      <td>Canada, United Kingdom</td>\n",
       "      <td>NaN</td>\n",
       "      <td>2019</td>\n",
       "      <td>TV-Y</td>\n",
       "      <td>2 Seasons</td>\n",
       "      <td>Kids' TV</td>\n",
       "      <td>Lovable pug Chip starts kindergarten, makes ne...</td>\n",
       "      <td>TV Show</td>\n",
       "    </tr>\n",
       "  </tbody>\n",
       "</table>\n",
       "</div>"
      ],
      "text/plain": [
       "    show_id                                title                    director  \\\n",
       "0  81193313                            Chocolate                         NaN   \n",
       "1  81197050  Guatemala: Heart of the Mayan World  Luis Ara, Ignacio Jaunsolo   \n",
       "2  81213894                      The Zoya Factor             Abhishek Sharma   \n",
       "3  81082007                            Atlantics                   Mati Diop   \n",
       "4  80213643                      Chip and Potato                         NaN   \n",
       "\n",
       "                                                cast  \\\n",
       "0  Ha Ji-won, Yoon Kye-sang, Jang Seung-jo, Kang ...   \n",
       "1                                  Christian Morales   \n",
       "2  Sonam Kapoor, Dulquer Salmaan, Sanjay Kapoor, ...   \n",
       "3  Mama Sane, Amadou Mbow, Ibrahima Traore, Nicol...   \n",
       "4  Abigail Oliver, Andrea Libman, Briana Buckmast...   \n",
       "\n",
       "                    country         date_added  release_year rating  \\\n",
       "0               South Korea  November 30, 2019          2019  TV-14   \n",
       "1                       NaN  November 30, 2019          2019   TV-G   \n",
       "2                     India  November 30, 2019          2019  TV-14   \n",
       "3  France, Senegal, Belgium  November 29, 2019          2019  TV-14   \n",
       "4    Canada, United Kingdom                NaN          2019   TV-Y   \n",
       "\n",
       "    duration                                          listed_in  \\\n",
       "0   1 Season  International TV Shows, Korean TV Shows, Roman...   \n",
       "1     67 min                Documentaries, International Movies   \n",
       "2    135 min             Comedies, Dramas, International Movies   \n",
       "3    106 min   Dramas, Independent Movies, International Movies   \n",
       "4  2 Seasons                                           Kids' TV   \n",
       "\n",
       "                                         description     type  \n",
       "0  Brought together by meaningful meals in the pa...  TV Show  \n",
       "1  From Sierra de las Minas to Esquipulas, explor...    Movie  \n",
       "2  A goofy copywriter unwittingly convinces the I...    Movie  \n",
       "3  Arranged to marry a rich man, young Ada is cru...    Movie  \n",
       "4  Lovable pug Chip starts kindergarten, makes ne...  TV Show  "
      ]
     },
     "execution_count": 15,
     "metadata": {},
     "output_type": "execute_result"
    }
   ],
   "source": [
    "n = pd.read_csv(\"netflix_titles_nov_2019.csv\")\n",
    "n.head()"
   ]
  },
  {
   "cell_type": "code",
   "execution_count": null,
   "id": "4852798d-e96c-4aa0-80b6-fd1a9cbc49af",
   "metadata": {},
   "outputs": [],
   "source": [
    "# information about the date - shape , missing data , inconsistent data type\n"
   ]
  },
  {
   "cell_type": "code",
   "execution_count": 17,
   "id": "e273fd1c-a04c-4daf-a978-e7bf53965d35",
   "metadata": {},
   "outputs": [
    {
     "data": {
      "text/plain": [
       "(5837, 12)"
      ]
     },
     "execution_count": 17,
     "metadata": {},
     "output_type": "execute_result"
    }
   ],
   "source": [
    "n.shape"
   ]
  },
  {
   "cell_type": "code",
   "execution_count": 19,
   "id": "3aafb956-0990-41af-9333-75cda4d37d7a",
   "metadata": {},
   "outputs": [
    {
     "name": "stdout",
     "output_type": "stream",
     "text": [
      "<class 'pandas.core.frame.DataFrame'>\n",
      "RangeIndex: 5837 entries, 0 to 5836\n",
      "Data columns (total 12 columns):\n",
      " #   Column        Non-Null Count  Dtype \n",
      "---  ------        --------------  ----- \n",
      " 0   show_id       5837 non-null   int64 \n",
      " 1   title         5837 non-null   object\n",
      " 2   director      3936 non-null   object\n",
      " 3   cast          5281 non-null   object\n",
      " 4   country       5410 non-null   object\n",
      " 5   date_added    5195 non-null   object\n",
      " 6   release_year  5837 non-null   int64 \n",
      " 7   rating        5827 non-null   object\n",
      " 8   duration      5837 non-null   object\n",
      " 9   listed_in     5837 non-null   object\n",
      " 10  description   5837 non-null   object\n",
      " 11  type          5837 non-null   object\n",
      "dtypes: int64(2), object(10)\n",
      "memory usage: 547.3+ KB\n"
     ]
    }
   ],
   "source": [
    "n.info()"
   ]
  },
  {
   "cell_type": "code",
   "execution_count": 21,
   "id": "364575ec-f4f2-4c7b-a52a-6f5746bfc60a",
   "metadata": {},
   "outputs": [
    {
     "data": {
      "text/plain": [
       "show_id            0\n",
       "title              0\n",
       "director        1901\n",
       "cast             556\n",
       "country          427\n",
       "date_added       642\n",
       "release_year       0\n",
       "rating            10\n",
       "duration           0\n",
       "listed_in          0\n",
       "description        0\n",
       "type               0\n",
       "dtype: int64"
      ]
     },
     "execution_count": 21,
     "metadata": {},
     "output_type": "execute_result"
    }
   ],
   "source": [
    "n.isnull().sum()"
   ]
  },
  {
   "cell_type": "code",
   "execution_count": 23,
   "id": "7c6ecce1-abd5-4a32-98be-145a7cdb0e43",
   "metadata": {},
   "outputs": [
    {
     "data": {
      "text/plain": [
       "array([nan, 'Luis Ara, Ignacio Jaunsolo', 'Abhishek Sharma', ...,\n",
       "       'Jim Monaco', 'Ole Bornedal', 'Sorin Dan Mihalcescu'], dtype=object)"
      ]
     },
     "execution_count": 23,
     "metadata": {},
     "output_type": "execute_result"
    }
   ],
   "source": [
    "n['director'].unique()"
   ]
  },
  {
   "cell_type": "code",
   "execution_count": 29,
   "id": "84634ebb-3d1c-4693-97cc-5f69afb0b2cc",
   "metadata": {},
   "outputs": [],
   "source": [
    "n['director'] .fillna(\"Unknown\", inplace = True)"
   ]
  },
  {
   "cell_type": "code",
   "execution_count": 31,
   "id": "8ef8dfa5-e9c9-4875-a9b2-79cbebb37cec",
   "metadata": {},
   "outputs": [],
   "source": [
    "n['cast']. fillna(\"Unknown\", inplace = True)"
   ]
  },
  {
   "cell_type": "code",
   "execution_count": 33,
   "id": "1c62bd28-3bdd-4805-9b1f-10a6a99efc5f",
   "metadata": {},
   "outputs": [
    {
     "data": {
      "text/plain": [
       "527"
      ]
     },
     "execution_count": 33,
     "metadata": {},
     "output_type": "execute_result"
    }
   ],
   "source": [
    "n['country'].nunique()"
   ]
  },
  {
   "cell_type": "code",
   "execution_count": 37,
   "id": "536d66f1-21cd-4938-a7bd-a321e9ee3e07",
   "metadata": {},
   "outputs": [],
   "source": [
    "n['country'] .fillna(n['country'].mode()[0], inplace = True)"
   ]
  },
  {
   "cell_type": "code",
   "execution_count": 39,
   "id": "40d0105a-8fb4-4dd6-b64b-33e2da0e93bf",
   "metadata": {},
   "outputs": [
    {
     "data": {
      "text/plain": [
       "0    United States\n",
       "Name: country, dtype: object"
      ]
     },
     "execution_count": 39,
     "metadata": {},
     "output_type": "execute_result"
    }
   ],
   "source": [
    "n['country'].mode()"
   ]
  },
  {
   "cell_type": "code",
   "execution_count": 41,
   "id": "11d9de87-7af3-41df-93db-950f805150bc",
   "metadata": {},
   "outputs": [
    {
     "data": {
      "text/plain": [
       "'United States'"
      ]
     },
     "execution_count": 41,
     "metadata": {},
     "output_type": "execute_result"
    }
   ],
   "source": [
    "n['country'].mode()[0]"
   ]
  },
  {
   "cell_type": "code",
   "execution_count": 45,
   "id": "eac81ca5-1bb1-4e01-abbe-7004a4826934",
   "metadata": {},
   "outputs": [],
   "source": [
    "n['date_added'].fillna(n['date_added'].mode()[0], inplace = True)"
   ]
  },
  {
   "cell_type": "code",
   "execution_count": 49,
   "id": "5271559a-9d4f-41d6-b305-3d70bb3b2808",
   "metadata": {},
   "outputs": [],
   "source": [
    "n['rating'] .fillna(n['rating'].mode()[0], inplace = True)"
   ]
  },
  {
   "cell_type": "code",
   "execution_count": 51,
   "id": "0bc652b1-0c56-436c-be2b-99d534737906",
   "metadata": {},
   "outputs": [
    {
     "data": {
      "text/plain": [
       "show_id         0\n",
       "title           0\n",
       "director        0\n",
       "cast            0\n",
       "country         0\n",
       "date_added      0\n",
       "release_year    0\n",
       "rating          0\n",
       "duration        0\n",
       "listed_in       0\n",
       "description     0\n",
       "type            0\n",
       "dtype: int64"
      ]
     },
     "execution_count": 51,
     "metadata": {},
     "output_type": "execute_result"
    }
   ],
   "source": [
    "n.isnull().sum()"
   ]
  },
  {
   "cell_type": "code",
   "execution_count": null,
   "id": "68b57908-619b-41f7-9b42-a3dcc309e912",
   "metadata": {},
   "outputs": [],
   "source": [
    "# convert date_added to datetime"
   ]
  },
  {
   "cell_type": "code",
   "execution_count": 53,
   "id": "1131c542-3e33-4d2b-b1f4-105fed23b1e5",
   "metadata": {},
   "outputs": [],
   "source": [
    "n['date_added'] = pd.to_datetime(n['date_added'])"
   ]
  },
  {
   "cell_type": "code",
   "execution_count": 55,
   "id": "5e52a56f-31b8-4397-8044-243a87feeb88",
   "metadata": {},
   "outputs": [
    {
     "data": {
      "text/html": [
       "<div>\n",
       "<style scoped>\n",
       "    .dataframe tbody tr th:only-of-type {\n",
       "        vertical-align: middle;\n",
       "    }\n",
       "\n",
       "    .dataframe tbody tr th {\n",
       "        vertical-align: top;\n",
       "    }\n",
       "\n",
       "    .dataframe thead th {\n",
       "        text-align: right;\n",
       "    }\n",
       "</style>\n",
       "<table border=\"1\" class=\"dataframe\">\n",
       "  <thead>\n",
       "    <tr style=\"text-align: right;\">\n",
       "      <th></th>\n",
       "      <th>show_id</th>\n",
       "      <th>title</th>\n",
       "      <th>director</th>\n",
       "      <th>cast</th>\n",
       "      <th>country</th>\n",
       "      <th>date_added</th>\n",
       "      <th>release_year</th>\n",
       "      <th>rating</th>\n",
       "      <th>duration</th>\n",
       "      <th>listed_in</th>\n",
       "      <th>description</th>\n",
       "      <th>type</th>\n",
       "    </tr>\n",
       "  </thead>\n",
       "  <tbody>\n",
       "    <tr>\n",
       "      <th>0</th>\n",
       "      <td>81193313</td>\n",
       "      <td>Chocolate</td>\n",
       "      <td>Unknown</td>\n",
       "      <td>Ha Ji-won, Yoon Kye-sang, Jang Seung-jo, Kang ...</td>\n",
       "      <td>South Korea</td>\n",
       "      <td>2019-11-30</td>\n",
       "      <td>2019</td>\n",
       "      <td>TV-14</td>\n",
       "      <td>1 Season</td>\n",
       "      <td>International TV Shows, Korean TV Shows, Roman...</td>\n",
       "      <td>Brought together by meaningful meals in the pa...</td>\n",
       "      <td>TV Show</td>\n",
       "    </tr>\n",
       "    <tr>\n",
       "      <th>1</th>\n",
       "      <td>81197050</td>\n",
       "      <td>Guatemala: Heart of the Mayan World</td>\n",
       "      <td>Luis Ara, Ignacio Jaunsolo</td>\n",
       "      <td>Christian Morales</td>\n",
       "      <td>United States</td>\n",
       "      <td>2019-11-30</td>\n",
       "      <td>2019</td>\n",
       "      <td>TV-G</td>\n",
       "      <td>67 min</td>\n",
       "      <td>Documentaries, International Movies</td>\n",
       "      <td>From Sierra de las Minas to Esquipulas, explor...</td>\n",
       "      <td>Movie</td>\n",
       "    </tr>\n",
       "    <tr>\n",
       "      <th>2</th>\n",
       "      <td>81213894</td>\n",
       "      <td>The Zoya Factor</td>\n",
       "      <td>Abhishek Sharma</td>\n",
       "      <td>Sonam Kapoor, Dulquer Salmaan, Sanjay Kapoor, ...</td>\n",
       "      <td>India</td>\n",
       "      <td>2019-11-30</td>\n",
       "      <td>2019</td>\n",
       "      <td>TV-14</td>\n",
       "      <td>135 min</td>\n",
       "      <td>Comedies, Dramas, International Movies</td>\n",
       "      <td>A goofy copywriter unwittingly convinces the I...</td>\n",
       "      <td>Movie</td>\n",
       "    </tr>\n",
       "    <tr>\n",
       "      <th>3</th>\n",
       "      <td>81082007</td>\n",
       "      <td>Atlantics</td>\n",
       "      <td>Mati Diop</td>\n",
       "      <td>Mama Sane, Amadou Mbow, Ibrahima Traore, Nicol...</td>\n",
       "      <td>France, Senegal, Belgium</td>\n",
       "      <td>2019-11-29</td>\n",
       "      <td>2019</td>\n",
       "      <td>TV-14</td>\n",
       "      <td>106 min</td>\n",
       "      <td>Dramas, Independent Movies, International Movies</td>\n",
       "      <td>Arranged to marry a rich man, young Ada is cru...</td>\n",
       "      <td>Movie</td>\n",
       "    </tr>\n",
       "    <tr>\n",
       "      <th>4</th>\n",
       "      <td>80213643</td>\n",
       "      <td>Chip and Potato</td>\n",
       "      <td>Unknown</td>\n",
       "      <td>Abigail Oliver, Andrea Libman, Briana Buckmast...</td>\n",
       "      <td>Canada, United Kingdom</td>\n",
       "      <td>2019-11-01</td>\n",
       "      <td>2019</td>\n",
       "      <td>TV-Y</td>\n",
       "      <td>2 Seasons</td>\n",
       "      <td>Kids' TV</td>\n",
       "      <td>Lovable pug Chip starts kindergarten, makes ne...</td>\n",
       "      <td>TV Show</td>\n",
       "    </tr>\n",
       "  </tbody>\n",
       "</table>\n",
       "</div>"
      ],
      "text/plain": [
       "    show_id                                title                    director  \\\n",
       "0  81193313                            Chocolate                     Unknown   \n",
       "1  81197050  Guatemala: Heart of the Mayan World  Luis Ara, Ignacio Jaunsolo   \n",
       "2  81213894                      The Zoya Factor             Abhishek Sharma   \n",
       "3  81082007                            Atlantics                   Mati Diop   \n",
       "4  80213643                      Chip and Potato                     Unknown   \n",
       "\n",
       "                                                cast  \\\n",
       "0  Ha Ji-won, Yoon Kye-sang, Jang Seung-jo, Kang ...   \n",
       "1                                  Christian Morales   \n",
       "2  Sonam Kapoor, Dulquer Salmaan, Sanjay Kapoor, ...   \n",
       "3  Mama Sane, Amadou Mbow, Ibrahima Traore, Nicol...   \n",
       "4  Abigail Oliver, Andrea Libman, Briana Buckmast...   \n",
       "\n",
       "                    country date_added  release_year rating   duration  \\\n",
       "0               South Korea 2019-11-30          2019  TV-14   1 Season   \n",
       "1             United States 2019-11-30          2019   TV-G     67 min   \n",
       "2                     India 2019-11-30          2019  TV-14    135 min   \n",
       "3  France, Senegal, Belgium 2019-11-29          2019  TV-14    106 min   \n",
       "4    Canada, United Kingdom 2019-11-01          2019   TV-Y  2 Seasons   \n",
       "\n",
       "                                           listed_in  \\\n",
       "0  International TV Shows, Korean TV Shows, Roman...   \n",
       "1                Documentaries, International Movies   \n",
       "2             Comedies, Dramas, International Movies   \n",
       "3   Dramas, Independent Movies, International Movies   \n",
       "4                                           Kids' TV   \n",
       "\n",
       "                                         description     type  \n",
       "0  Brought together by meaningful meals in the pa...  TV Show  \n",
       "1  From Sierra de las Minas to Esquipulas, explor...    Movie  \n",
       "2  A goofy copywriter unwittingly convinces the I...    Movie  \n",
       "3  Arranged to marry a rich man, young Ada is cru...    Movie  \n",
       "4  Lovable pug Chip starts kindergarten, makes ne...  TV Show  "
      ]
     },
     "execution_count": 55,
     "metadata": {},
     "output_type": "execute_result"
    }
   ],
   "source": [
    "n.head()"
   ]
  },
  {
   "cell_type": "code",
   "execution_count": null,
   "id": "18659889-a214-4f3f-81ec-03a8ccca0418",
   "metadata": {},
   "outputs": [],
   "source": [
    "# duplicate rows"
   ]
  },
  {
   "cell_type": "code",
   "execution_count": 57,
   "id": "5510dd2d-7f76-4892-ba5c-92829c8e4d4a",
   "metadata": {},
   "outputs": [
    {
     "data": {
      "text/html": [
       "<div>\n",
       "<style scoped>\n",
       "    .dataframe tbody tr th:only-of-type {\n",
       "        vertical-align: middle;\n",
       "    }\n",
       "\n",
       "    .dataframe tbody tr th {\n",
       "        vertical-align: top;\n",
       "    }\n",
       "\n",
       "    .dataframe thead th {\n",
       "        text-align: right;\n",
       "    }\n",
       "</style>\n",
       "<table border=\"1\" class=\"dataframe\">\n",
       "  <thead>\n",
       "    <tr style=\"text-align: right;\">\n",
       "      <th></th>\n",
       "      <th>show_id</th>\n",
       "      <th>title</th>\n",
       "      <th>director</th>\n",
       "      <th>cast</th>\n",
       "      <th>country</th>\n",
       "      <th>date_added</th>\n",
       "      <th>release_year</th>\n",
       "      <th>rating</th>\n",
       "      <th>duration</th>\n",
       "      <th>listed_in</th>\n",
       "      <th>description</th>\n",
       "      <th>type</th>\n",
       "    </tr>\n",
       "  </thead>\n",
       "  <tbody>\n",
       "  </tbody>\n",
       "</table>\n",
       "</div>"
      ],
      "text/plain": [
       "Empty DataFrame\n",
       "Columns: [show_id, title, director, cast, country, date_added, release_year, rating, duration, listed_in, description, type]\n",
       "Index: []"
      ]
     },
     "execution_count": 57,
     "metadata": {},
     "output_type": "execute_result"
    }
   ],
   "source": [
    "n[n.duplicated()]"
   ]
  },
  {
   "cell_type": "code",
   "execution_count": null,
   "id": "41d4a645-c33d-4517-8801-7fdbc659b7c9",
   "metadata": {},
   "outputs": [],
   "source": [
    "# analysis"
   ]
  },
  {
   "cell_type": "code",
   "execution_count": 61,
   "id": "44b3e860-ed30-45c0-a744-8431185ef135",
   "metadata": {},
   "outputs": [],
   "source": [
    "custom_palette = ['#221f1f', '#b20710', '#e50914', '#f5f5f1']\n",
    "sns.set_palette(custom_palette)"
   ]
  },
  {
   "cell_type": "code",
   "execution_count": null,
   "id": "7c2ee73f-9aab-403a-895d-70ab7d82ceb4",
   "metadata": {},
   "outputs": [],
   "source": [
    "# what type of content and what is frequency"
   ]
  },
  {
   "cell_type": "code",
   "execution_count": 83,
   "id": "afc7baad-7906-4b6a-9c9a-9c817efabb63",
   "metadata": {},
   "outputs": [
    {
     "data": {
      "text/plain": [
       "type\n",
       "Movie      3939\n",
       "TV Show    1898\n",
       "Name: count, dtype: int64"
      ]
     },
     "execution_count": 83,
     "metadata": {},
     "output_type": "execute_result"
    }
   ],
   "source": [
    "n['type'] .value_counts()"
   ]
  },
  {
   "cell_type": "code",
   "execution_count": 87,
   "id": "7d533431-fc68-4da2-8989-757221b481e8",
   "metadata": {},
   "outputs": [
    {
     "data": {
      "text/plain": [
       "Text(0, 0.5, 'frequency')"
      ]
     },
     "execution_count": 87,
     "metadata": {},
     "output_type": "execute_result"
    },
    {
     "data": {
      "image/png": "[encoded data removed]",
      "text/plain": [
       "<Figure size 800x600 with 1 Axes>"
      ]
     },
     "metadata": {},
     "output_type": "display_data"
    }
   ],
   "source": [
    "plt.figure(figsize = (8,6))\n",
    "sns.countplot(data = n , x = 'type')\n",
    "plt.title(\"Distribution of content types\")\n",
    "plt.xlabel(\"content type\")\n",
    "plt.ylabel(\"frequency\")\n"
   ]
  },
  {
   "cell_type": "code",
   "execution_count": null,
   "id": "c3793717-e02d-4c92-9366-f9cd8eb33298",
   "metadata": {},
   "outputs": [],
   "source": [
    "# Distribution of duration vs content type"
   ]
  },
  {
   "cell_type": "code",
   "execution_count": 91,
   "id": "a27ae54d-a124-47f8-aba9-4cd7318ff40c",
   "metadata": {},
   "outputs": [
    {
     "data": {
      "text/plain": [
       "<matplotlib.legend.Legend at 0x207f37836b0>"
      ]
     },
     "execution_count": 91,
     "metadata": {},
     "output_type": "execute_result"
    },
    {
     "data": {
      "image/png": "[encoded data removed]",
      "text/plain": [
       "<Figure size 800x700 with 1 Axes>"
      ]
     },
     "metadata": {},
     "output_type": "display_data"
    }
   ],
   "source": [
    "plt.figure(figsize = (8,7))\n",
    "sns.histplot(data=n[n['type'] == 'Movie'], x='duration', bins=30, label = 'Movies')\n",
    "plt.title('Distribution of Content Durations')\n",
    "plt.xlabel('Duration')\n",
    "plt.ylabel('Frequency')\n",
    "plt.xticks(rotation = 90)\n",
    "plt.legend()"
   ]
  },
  {
   "cell_type": "code",
   "execution_count": 109,
   "id": "9891bdc0-8cf7-45e8-9b3b-40e3d6e10a4e",
   "metadata": {},
   "outputs": [
    {
     "data": {
      "text/plain": [
       "0     1 Season\n",
       "1       67 min\n",
       "2      135 min\n",
       "3      106 min\n",
       "4    2 Seasons\n",
       "Name: duration, dtype: object"
      ]
     },
     "execution_count": 109,
     "metadata": {},
     "output_type": "execute_result"
    }
   ],
   "source": [
    "n['duration'].head()"
   ]
  },
  {
   "cell_type": "code",
   "execution_count": 115,
   "id": "45a955e4-e609-4a1f-91c5-790e7481fb22",
   "metadata": {},
   "outputs": [
    {
     "name": "stderr",
     "output_type": "stream",
     "text": [
      "<>:1: SyntaxWarning: invalid escape sequence '\\d'\n",
      "<>:1: SyntaxWarning: invalid escape sequence '\\d'\n",
      "C:\\Users\\Aishwarya\\AppData\\Local\\Temp\\ipykernel_13468\\1510459593.py:1: SyntaxWarning: invalid escape sequence '\\d'\n",
      "  n['duration_hours'] = n[n['type'] == 'Movie']['duration'].str.extract('(\\d+)').astype(float)/60\n"
     ]
    }
   ],
   "source": [
    "n['duration_hours'] = n[n['type'] == 'Movie']['duration'].str.extract('(\\d+)').astype(float)/60"
   ]
  },
  {
   "cell_type": "code",
   "execution_count": 117,
   "id": "253634ed-7f2a-4553-9918-c7592634a2ae",
   "metadata": {},
   "outputs": [
    {
     "data": {
      "text/html": [
       "<div>\n",
       "<style scoped>\n",
       "    .dataframe tbody tr th:only-of-type {\n",
       "        vertical-align: middle;\n",
       "    }\n",
       "\n",
       "    .dataframe tbody tr th {\n",
       "        vertical-align: top;\n",
       "    }\n",
       "\n",
       "    .dataframe thead th {\n",
       "        text-align: right;\n",
       "    }\n",
       "</style>\n",
       "<table border=\"1\" class=\"dataframe\">\n",
       "  <thead>\n",
       "    <tr style=\"text-align: right;\">\n",
       "      <th></th>\n",
       "      <th>show_id</th>\n",
       "      <th>title</th>\n",
       "      <th>director</th>\n",
       "      <th>cast</th>\n",
       "      <th>country</th>\n",
       "      <th>date_added</th>\n",
       "      <th>release_year</th>\n",
       "      <th>rating</th>\n",
       "      <th>duration</th>\n",
       "      <th>listed_in</th>\n",
       "      <th>description</th>\n",
       "      <th>type</th>\n",
       "      <th>duration_hours</th>\n",
       "    </tr>\n",
       "  </thead>\n",
       "  <tbody>\n",
       "    <tr>\n",
       "      <th>0</th>\n",
       "      <td>81193313</td>\n",
       "      <td>Chocolate</td>\n",
       "      <td>Unknown</td>\n",
       "      <td>Ha Ji-won, Yoon Kye-sang, Jang Seung-jo, Kang ...</td>\n",
       "      <td>South Korea</td>\n",
       "      <td>2019-11-30</td>\n",
       "      <td>2019</td>\n",
       "      <td>TV-14</td>\n",
       "      <td>1 Season</td>\n",
       "      <td>International TV Shows, Korean TV Shows, Roman...</td>\n",
       "      <td>Brought together by meaningful meals in the pa...</td>\n",
       "      <td>TV Show</td>\n",
       "      <td>NaN</td>\n",
       "    </tr>\n",
       "    <tr>\n",
       "      <th>1</th>\n",
       "      <td>81197050</td>\n",
       "      <td>Guatemala: Heart of the Mayan World</td>\n",
       "      <td>Luis Ara, Ignacio Jaunsolo</td>\n",
       "      <td>Christian Morales</td>\n",
       "      <td>United States</td>\n",
       "      <td>2019-11-30</td>\n",
       "      <td>2019</td>\n",
       "      <td>TV-G</td>\n",
       "      <td>67 min</td>\n",
       "      <td>Documentaries, International Movies</td>\n",
       "      <td>From Sierra de las Minas to Esquipulas, explor...</td>\n",
       "      <td>Movie</td>\n",
       "      <td>1.116667</td>\n",
       "    </tr>\n",
       "    <tr>\n",
       "      <th>2</th>\n",
       "      <td>81213894</td>\n",
       "      <td>The Zoya Factor</td>\n",
       "      <td>Abhishek Sharma</td>\n",
       "      <td>Sonam Kapoor, Dulquer Salmaan, Sanjay Kapoor, ...</td>\n",
       "      <td>India</td>\n",
       "      <td>2019-11-30</td>\n",
       "      <td>2019</td>\n",
       "      <td>TV-14</td>\n",
       "      <td>135 min</td>\n",
       "      <td>Comedies, Dramas, International Movies</td>\n",
       "      <td>A goofy copywriter unwittingly convinces the I...</td>\n",
       "      <td>Movie</td>\n",
       "      <td>2.250000</td>\n",
       "    </tr>\n",
       "    <tr>\n",
       "      <th>3</th>\n",
       "      <td>81082007</td>\n",
       "      <td>Atlantics</td>\n",
       "      <td>Mati Diop</td>\n",
       "      <td>Mama Sane, Amadou Mbow, Ibrahima Traore, Nicol...</td>\n",
       "      <td>France, Senegal, Belgium</td>\n",
       "      <td>2019-11-29</td>\n",
       "      <td>2019</td>\n",
       "      <td>TV-14</td>\n",
       "      <td>106 min</td>\n",
       "      <td>Dramas, Independent Movies, International Movies</td>\n",
       "      <td>Arranged to marry a rich man, young Ada is cru...</td>\n",
       "      <td>Movie</td>\n",
       "      <td>1.766667</td>\n",
       "    </tr>\n",
       "    <tr>\n",
       "      <th>4</th>\n",
       "      <td>80213643</td>\n",
       "      <td>Chip and Potato</td>\n",
       "      <td>Unknown</td>\n",
       "      <td>Abigail Oliver, Andrea Libman, Briana Buckmast...</td>\n",
       "      <td>Canada, United Kingdom</td>\n",
       "      <td>2019-11-01</td>\n",
       "      <td>2019</td>\n",
       "      <td>TV-Y</td>\n",
       "      <td>2 Seasons</td>\n",
       "      <td>Kids' TV</td>\n",
       "      <td>Lovable pug Chip starts kindergarten, makes ne...</td>\n",
       "      <td>TV Show</td>\n",
       "      <td>NaN</td>\n",
       "    </tr>\n",
       "  </tbody>\n",
       "</table>\n",
       "</div>"
      ],
      "text/plain": [
       "    show_id                                title                    director  \\\n",
       "0  81193313                            Chocolate                     Unknown   \n",
       "1  81197050  Guatemala: Heart of the Mayan World  Luis Ara, Ignacio Jaunsolo   \n",
       "2  81213894                      The Zoya Factor             Abhishek Sharma   \n",
       "3  81082007                            Atlantics                   Mati Diop   \n",
       "4  80213643                      Chip and Potato                     Unknown   \n",
       "\n",
       "                                                cast  \\\n",
       "0  Ha Ji-won, Yoon Kye-sang, Jang Seung-jo, Kang ...   \n",
       "1                                  Christian Morales   \n",
       "2  Sonam Kapoor, Dulquer Salmaan, Sanjay Kapoor, ...   \n",
       "3  Mama Sane, Amadou Mbow, Ibrahima Traore, Nicol...   \n",
       "4  Abigail Oliver, Andrea Libman, Briana Buckmast...   \n",
       "\n",
       "                    country date_added  release_year rating   duration  \\\n",
       "0               South Korea 2019-11-30          2019  TV-14   1 Season   \n",
       "1             United States 2019-11-30          2019   TV-G     67 min   \n",
       "2                     India 2019-11-30          2019  TV-14    135 min   \n",
       "3  France, Senegal, Belgium 2019-11-29          2019  TV-14    106 min   \n",
       "4    Canada, United Kingdom 2019-11-01          2019   TV-Y  2 Seasons   \n",
       "\n",
       "                                           listed_in  \\\n",
       "0  International TV Shows, Korean TV Shows, Roman...   \n",
       "1                Documentaries, International Movies   \n",
       "2             Comedies, Dramas, International Movies   \n",
       "3   Dramas, Independent Movies, International Movies   \n",
       "4                                           Kids' TV   \n",
       "\n",
       "                                         description     type  duration_hours  \n",
       "0  Brought together by meaningful meals in the pa...  TV Show             NaN  \n",
       "1  From Sierra de las Minas to Esquipulas, explor...    Movie        1.116667  \n",
       "2  A goofy copywriter unwittingly convinces the I...    Movie        2.250000  \n",
       "3  Arranged to marry a rich man, young Ada is cru...    Movie        1.766667  \n",
       "4  Lovable pug Chip starts kindergarten, makes ne...  TV Show             NaN  "
      ]
     },
     "execution_count": 117,
     "metadata": {},
     "output_type": "execute_result"
    }
   ],
   "source": [
    "n.head()"
   ]
  },
  {
   "cell_type": "code",
   "execution_count": 119,
   "id": "4a497574-9608-470e-adac-db6ea3401d68",
   "metadata": {},
   "outputs": [
    {
     "data": {
      "text/plain": [
       "<matplotlib.legend.Legend at 0x207f36744a0>"
      ]
     },
     "execution_count": 119,
     "metadata": {},
     "output_type": "execute_result"
    },
    {
     "data": {
      "image/png": "[encoded data removed]",
      "text/plain": [
       "<Figure size 800x700 with 1 Axes>"
      ]
     },
     "metadata": {},
     "output_type": "display_data"
    }
   ],
   "source": [
    "plt.figure(figsize = (8,7))\n",
    "sns.histplot(data=n[n['type'] == 'Movie'], x = 'duration_hours', \n",
    "             bins=30, kde=True, label='Movies')\n",
    "plt.title('Distribution of Content Durations')\n",
    "plt.xlabel('Duration ')\n",
    "plt.ylabel('Frequency')\n",
    "plt.xticks(rotation = 90)\n",
    "plt.legend()"
   ]
  },
  {
   "cell_type": "code",
   "execution_count": null,
   "id": "5771376c-b34e-4c0a-be4e-c8107d6665ef",
   "metadata": {},
   "outputs": [],
   "source": [
    "# which year we had most releases"
   ]
  },
  {
   "cell_type": "code",
   "execution_count": 123,
   "id": "0d7b8c09-c1ff-4acc-bd10-d97dca122952",
   "metadata": {},
   "outputs": [
    {
     "data": {
      "image/png": "[encoded data removed]",
      "text/plain": [
       "<Figure size 800x700 with 1 Axes>"
      ]
     },
     "metadata": {},
     "output_type": "display_data"
    }
   ],
   "source": [
    "plt.figure(figsize = (8,7))\n",
    "sns.histplot(data=n, x = 'release_year', bins=30, kde=True)\n",
    "plt.title('Release Trend Over Years')\n",
    "plt.xlabel('Release Year')\n",
    "plt.ylabel('Frequency')\n",
    "plt.show()"
   ]
  },
  {
   "cell_type": "code",
   "execution_count": 125,
   "id": "cf37d0e3-d224-4e6a-8c4c-f5971170a5e7",
   "metadata": {},
   "outputs": [
    {
     "data": {
      "text/plain": [
       "release_year\n",
       "2018    1040\n",
       "2017     928\n",
       "2016     818\n",
       "2019     762\n",
       "2015     502\n",
       "        ... \n",
       "1955       1\n",
       "1956       1\n",
       "1947       1\n",
       "2020       1\n",
       "1954       1\n",
       "Name: count, Length: 71, dtype: int64"
      ]
     },
     "execution_count": 125,
     "metadata": {},
     "output_type": "execute_result"
    }
   ],
   "source": [
    "n['release_year'].value_counts().sort_values(ascending = False)"
   ]
  },
  {
   "cell_type": "code",
   "execution_count": null,
   "id": "f30670fd-9513-4c57-96ad-7da2787a891a",
   "metadata": {},
   "outputs": [],
   "source": [
    "# Distribution of content by rating and type"
   ]
  },
  {
   "cell_type": "code",
   "execution_count": 129,
   "id": "5dc8d9d0-9497-4ac4-b773-9d4e842ee62b",
   "metadata": {},
   "outputs": [
    {
     "data": {
      "image/png": "[encoded data removed]",
      "text/plain": [
       "<Figure size 1200x600 with 1 Axes>"
      ]
     },
     "metadata": {},
     "output_type": "display_data"
    }
   ],
   "source": [
    "plt.figure(figsize = (12,6))\n",
    "sns.countplot(data=n, x= 'rating', hue= 'type')\n",
    "plt.title('Distribution of Content by rating and type')\n",
    "plt.xlabel('rating ')\n",
    "plt.ylabel('count')\n",
    "plt.xticks(rotation = 45)\n",
    "plt.legend(title = 'Type')\n",
    "plt.show()"
   ]
  },
  {
   "cell_type": "code",
   "execution_count": null,
   "id": "c59f1ab3-78e1-4860-b63f-3094383613b2",
   "metadata": {},
   "outputs": [],
   "source": [
    "# top 10 countries with a split based on content type(movies vs tv shows)"
   ]
  },
  {
   "cell_type": "code",
   "execution_count": 133,
   "id": "9486098f-3f4e-416a-b765-66024d17fb00",
   "metadata": {},
   "outputs": [
    {
     "data": {
      "text/plain": [
       "Index(['United States', 'India', 'United Kingdom', 'Japan', 'Canada',\n",
       "       'South Korea', 'Spain', 'France', 'Mexico', 'Turkey'],\n",
       "      dtype='object', name='country')"
      ]
     },
     "execution_count": 133,
     "metadata": {},
     "output_type": "execute_result"
    }
   ],
   "source": [
    "tc = n['country'].value_counts(ascending = False).head(10).index\n",
    "tc"
   ]
  },
  {
   "cell_type": "code",
   "execution_count": 135,
   "id": "20ccd128-9882-4bc4-9aeb-5ae39ab06e6e",
   "metadata": {},
   "outputs": [
    {
     "data": {
      "text/html": [
       "<div>\n",
       "<style scoped>\n",
       "    .dataframe tbody tr th:only-of-type {\n",
       "        vertical-align: middle;\n",
       "    }\n",
       "\n",
       "    .dataframe tbody tr th {\n",
       "        vertical-align: top;\n",
       "    }\n",
       "\n",
       "    .dataframe thead th {\n",
       "        text-align: right;\n",
       "    }\n",
       "</style>\n",
       "<table border=\"1\" class=\"dataframe\">\n",
       "  <thead>\n",
       "    <tr style=\"text-align: right;\">\n",
       "      <th></th>\n",
       "      <th>show_id</th>\n",
       "      <th>title</th>\n",
       "      <th>director</th>\n",
       "      <th>cast</th>\n",
       "      <th>country</th>\n",
       "      <th>date_added</th>\n",
       "      <th>release_year</th>\n",
       "      <th>rating</th>\n",
       "      <th>duration</th>\n",
       "      <th>listed_in</th>\n",
       "      <th>description</th>\n",
       "      <th>type</th>\n",
       "      <th>duration_hours</th>\n",
       "    </tr>\n",
       "  </thead>\n",
       "  <tbody>\n",
       "    <tr>\n",
       "      <th>0</th>\n",
       "      <td>81193313</td>\n",
       "      <td>Chocolate</td>\n",
       "      <td>Unknown</td>\n",
       "      <td>Ha Ji-won, Yoon Kye-sang, Jang Seung-jo, Kang ...</td>\n",
       "      <td>South Korea</td>\n",
       "      <td>2019-11-30</td>\n",
       "      <td>2019</td>\n",
       "      <td>TV-14</td>\n",
       "      <td>1 Season</td>\n",
       "      <td>International TV Shows, Korean TV Shows, Roman...</td>\n",
       "      <td>Brought together by meaningful meals in the pa...</td>\n",
       "      <td>TV Show</td>\n",
       "      <td>NaN</td>\n",
       "    </tr>\n",
       "    <tr>\n",
       "      <th>1</th>\n",
       "      <td>81197050</td>\n",
       "      <td>Guatemala: Heart of the Mayan World</td>\n",
       "      <td>Luis Ara, Ignacio Jaunsolo</td>\n",
       "      <td>Christian Morales</td>\n",
       "      <td>United States</td>\n",
       "      <td>2019-11-30</td>\n",
       "      <td>2019</td>\n",
       "      <td>TV-G</td>\n",
       "      <td>67 min</td>\n",
       "      <td>Documentaries, International Movies</td>\n",
       "      <td>From Sierra de las Minas to Esquipulas, explor...</td>\n",
       "      <td>Movie</td>\n",
       "      <td>1.116667</td>\n",
       "    </tr>\n",
       "    <tr>\n",
       "      <th>2</th>\n",
       "      <td>81213894</td>\n",
       "      <td>The Zoya Factor</td>\n",
       "      <td>Abhishek Sharma</td>\n",
       "      <td>Sonam Kapoor, Dulquer Salmaan, Sanjay Kapoor, ...</td>\n",
       "      <td>India</td>\n",
       "      <td>2019-11-30</td>\n",
       "      <td>2019</td>\n",
       "      <td>TV-14</td>\n",
       "      <td>135 min</td>\n",
       "      <td>Comedies, Dramas, International Movies</td>\n",
       "      <td>A goofy copywriter unwittingly convinces the I...</td>\n",
       "      <td>Movie</td>\n",
       "      <td>2.250000</td>\n",
       "    </tr>\n",
       "    <tr>\n",
       "      <th>6</th>\n",
       "      <td>81120982</td>\n",
       "      <td>I Lost My Body</td>\n",
       "      <td>Jérémy Clapin</td>\n",
       "      <td>Hakim Faris, Victoire Du Bois, Patrick d'Assum...</td>\n",
       "      <td>France</td>\n",
       "      <td>2019-11-29</td>\n",
       "      <td>2019</td>\n",
       "      <td>TV-MA</td>\n",
       "      <td>81 min</td>\n",
       "      <td>Dramas, Independent Movies, International Movies</td>\n",
       "      <td>Romance, mystery and adventure intertwine as a...</td>\n",
       "      <td>Movie</td>\n",
       "      <td>1.350000</td>\n",
       "    </tr>\n",
       "    <tr>\n",
       "      <th>9</th>\n",
       "      <td>81172841</td>\n",
       "      <td>Lagos Real Fake Life</td>\n",
       "      <td>Mike Ezuruonye</td>\n",
       "      <td>Nonso Diobi, Mike Ezuruonye, Mercy Aigbe, Rex ...</td>\n",
       "      <td>United States</td>\n",
       "      <td>2019-11-29</td>\n",
       "      <td>2018</td>\n",
       "      <td>TV-14</td>\n",
       "      <td>118 min</td>\n",
       "      <td>Comedies, International Movies</td>\n",
       "      <td>Two mooching friends vie for the attention of ...</td>\n",
       "      <td>Movie</td>\n",
       "      <td>1.966667</td>\n",
       "    </tr>\n",
       "    <tr>\n",
       "      <th>...</th>\n",
       "      <td>...</td>\n",
       "      <td>...</td>\n",
       "      <td>...</td>\n",
       "      <td>...</td>\n",
       "      <td>...</td>\n",
       "      <td>...</td>\n",
       "      <td>...</td>\n",
       "      <td>...</td>\n",
       "      <td>...</td>\n",
       "      <td>...</td>\n",
       "      <td>...</td>\n",
       "      <td>...</td>\n",
       "      <td>...</td>\n",
       "    </tr>\n",
       "    <tr>\n",
       "      <th>5830</th>\n",
       "      <td>60003155</td>\n",
       "      <td>Joseph: King of Dreams</td>\n",
       "      <td>Rob LaDuca, Robert C. Ramirez</td>\n",
       "      <td>Ben Affleck, Mark Hamill, Richard Herd, Mauree...</td>\n",
       "      <td>United States</td>\n",
       "      <td>2011-09-27</td>\n",
       "      <td>2000</td>\n",
       "      <td>TV-PG</td>\n",
       "      <td>75 min</td>\n",
       "      <td>Children &amp; Family Movies, Dramas, Faith &amp; Spir...</td>\n",
       "      <td>With his gift of dream interpretation and his ...</td>\n",
       "      <td>Movie</td>\n",
       "      <td>1.250000</td>\n",
       "    </tr>\n",
       "    <tr>\n",
       "      <th>5832</th>\n",
       "      <td>70141644</td>\n",
       "      <td>Mad Ron's Prevues from Hell</td>\n",
       "      <td>Jim Monaco</td>\n",
       "      <td>Nick Pawlow, Jordu Schell, Jay Kushwara, Micha...</td>\n",
       "      <td>United States</td>\n",
       "      <td>2010-11-01</td>\n",
       "      <td>1987</td>\n",
       "      <td>NR</td>\n",
       "      <td>84 min</td>\n",
       "      <td>Cult Movies, Horror Movies</td>\n",
       "      <td>This collection cherry-picks trailers, forgott...</td>\n",
       "      <td>Movie</td>\n",
       "      <td>1.400000</td>\n",
       "    </tr>\n",
       "    <tr>\n",
       "      <th>5833</th>\n",
       "      <td>70127998</td>\n",
       "      <td>Splatter</td>\n",
       "      <td>Joe Dante</td>\n",
       "      <td>Corey Feldman, Tony Todd, Tara Leigh, Erin Way...</td>\n",
       "      <td>United States</td>\n",
       "      <td>2009-11-18</td>\n",
       "      <td>2009</td>\n",
       "      <td>TV-14</td>\n",
       "      <td>29 min</td>\n",
       "      <td>Horror Movies</td>\n",
       "      <td>After committing suicide, a washed-up rocker r...</td>\n",
       "      <td>Movie</td>\n",
       "      <td>0.483333</td>\n",
       "    </tr>\n",
       "    <tr>\n",
       "      <th>5835</th>\n",
       "      <td>70157452</td>\n",
       "      <td>Dinner for Five</td>\n",
       "      <td>Unknown</td>\n",
       "      <td>Unknown</td>\n",
       "      <td>United States</td>\n",
       "      <td>2008-02-04</td>\n",
       "      <td>2007</td>\n",
       "      <td>TV-MA</td>\n",
       "      <td>1 Season</td>\n",
       "      <td>Stand-Up Comedy &amp; Talk Shows</td>\n",
       "      <td>In each episode, four celebrities join host Jo...</td>\n",
       "      <td>TV Show</td>\n",
       "      <td>NaN</td>\n",
       "    </tr>\n",
       "    <tr>\n",
       "      <th>5836</th>\n",
       "      <td>70053412</td>\n",
       "      <td>To and From New York</td>\n",
       "      <td>Sorin Dan Mihalcescu</td>\n",
       "      <td>Barbara King, Shaana Diya, John Krisiukenas, Y...</td>\n",
       "      <td>United States</td>\n",
       "      <td>2008-01-01</td>\n",
       "      <td>2006</td>\n",
       "      <td>NR</td>\n",
       "      <td>81 min</td>\n",
       "      <td>Dramas, Independent Movies, Thrillers</td>\n",
       "      <td>While covering a story in New York City, a Sea...</td>\n",
       "      <td>Movie</td>\n",
       "      <td>1.350000</td>\n",
       "    </tr>\n",
       "  </tbody>\n",
       "</table>\n",
       "<p>4163 rows × 13 columns</p>\n",
       "</div>"
      ],
      "text/plain": [
       "       show_id                                title  \\\n",
       "0     81193313                            Chocolate   \n",
       "1     81197050  Guatemala: Heart of the Mayan World   \n",
       "2     81213894                      The Zoya Factor   \n",
       "6     81120982                       I Lost My Body   \n",
       "9     81172841                 Lagos Real Fake Life   \n",
       "...        ...                                  ...   \n",
       "5830  60003155               Joseph: King of Dreams   \n",
       "5832  70141644          Mad Ron's Prevues from Hell   \n",
       "5833  70127998                             Splatter   \n",
       "5835  70157452                      Dinner for Five   \n",
       "5836  70053412                 To and From New York   \n",
       "\n",
       "                           director  \\\n",
       "0                           Unknown   \n",
       "1        Luis Ara, Ignacio Jaunsolo   \n",
       "2                   Abhishek Sharma   \n",
       "6                     Jérémy Clapin   \n",
       "9                    Mike Ezuruonye   \n",
       "...                             ...   \n",
       "5830  Rob LaDuca, Robert C. Ramirez   \n",
       "5832                     Jim Monaco   \n",
       "5833                      Joe Dante   \n",
       "5835                        Unknown   \n",
       "5836           Sorin Dan Mihalcescu   \n",
       "\n",
       "                                                   cast        country  \\\n",
       "0     Ha Ji-won, Yoon Kye-sang, Jang Seung-jo, Kang ...    South Korea   \n",
       "1                                     Christian Morales  United States   \n",
       "2     Sonam Kapoor, Dulquer Salmaan, Sanjay Kapoor, ...          India   \n",
       "6     Hakim Faris, Victoire Du Bois, Patrick d'Assum...         France   \n",
       "9     Nonso Diobi, Mike Ezuruonye, Mercy Aigbe, Rex ...  United States   \n",
       "...                                                 ...            ...   \n",
       "5830  Ben Affleck, Mark Hamill, Richard Herd, Mauree...  United States   \n",
       "5832  Nick Pawlow, Jordu Schell, Jay Kushwara, Micha...  United States   \n",
       "5833  Corey Feldman, Tony Todd, Tara Leigh, Erin Way...  United States   \n",
       "5835                                            Unknown  United States   \n",
       "5836  Barbara King, Shaana Diya, John Krisiukenas, Y...  United States   \n",
       "\n",
       "     date_added  release_year rating  duration  \\\n",
       "0    2019-11-30          2019  TV-14  1 Season   \n",
       "1    2019-11-30          2019   TV-G    67 min   \n",
       "2    2019-11-30          2019  TV-14   135 min   \n",
       "6    2019-11-29          2019  TV-MA    81 min   \n",
       "9    2019-11-29          2018  TV-14   118 min   \n",
       "...         ...           ...    ...       ...   \n",
       "5830 2011-09-27          2000  TV-PG    75 min   \n",
       "5832 2010-11-01          1987     NR    84 min   \n",
       "5833 2009-11-18          2009  TV-14    29 min   \n",
       "5835 2008-02-04          2007  TV-MA  1 Season   \n",
       "5836 2008-01-01          2006     NR    81 min   \n",
       "\n",
       "                                              listed_in  \\\n",
       "0     International TV Shows, Korean TV Shows, Roman...   \n",
       "1                   Documentaries, International Movies   \n",
       "2                Comedies, Dramas, International Movies   \n",
       "6      Dramas, Independent Movies, International Movies   \n",
       "9                        Comedies, International Movies   \n",
       "...                                                 ...   \n",
       "5830  Children & Family Movies, Dramas, Faith & Spir...   \n",
       "5832                         Cult Movies, Horror Movies   \n",
       "5833                                      Horror Movies   \n",
       "5835                       Stand-Up Comedy & Talk Shows   \n",
       "5836              Dramas, Independent Movies, Thrillers   \n",
       "\n",
       "                                            description     type  \\\n",
       "0     Brought together by meaningful meals in the pa...  TV Show   \n",
       "1     From Sierra de las Minas to Esquipulas, explor...    Movie   \n",
       "2     A goofy copywriter unwittingly convinces the I...    Movie   \n",
       "6     Romance, mystery and adventure intertwine as a...    Movie   \n",
       "9     Two mooching friends vie for the attention of ...    Movie   \n",
       "...                                                 ...      ...   \n",
       "5830  With his gift of dream interpretation and his ...    Movie   \n",
       "5832  This collection cherry-picks trailers, forgott...    Movie   \n",
       "5833  After committing suicide, a washed-up rocker r...    Movie   \n",
       "5835  In each episode, four celebrities join host Jo...  TV Show   \n",
       "5836  While covering a story in New York City, a Sea...    Movie   \n",
       "\n",
       "      duration_hours  \n",
       "0                NaN  \n",
       "1           1.116667  \n",
       "2           2.250000  \n",
       "6           1.350000  \n",
       "9           1.966667  \n",
       "...              ...  \n",
       "5830        1.250000  \n",
       "5832        1.400000  \n",
       "5833        0.483333  \n",
       "5835             NaN  \n",
       "5836        1.350000  \n",
       "\n",
       "[4163 rows x 13 columns]"
      ]
     },
     "execution_count": 135,
     "metadata": {},
     "output_type": "execute_result"
    }
   ],
   "source": [
    "topc = n[n['country'].isin(tc)]\n",
    "topc"
   ]
  },
  {
   "cell_type": "code",
   "execution_count": 139,
   "id": "4a7f0fa4-32e6-432d-b49b-08d2066ecd99",
   "metadata": {},
   "outputs": [
    {
     "data": {
      "text/html": [
       "<div>\n",
       "<style scoped>\n",
       "    .dataframe tbody tr th:only-of-type {\n",
       "        vertical-align: middle;\n",
       "    }\n",
       "\n",
       "    .dataframe tbody tr th {\n",
       "        vertical-align: top;\n",
       "    }\n",
       "\n",
       "    .dataframe thead th {\n",
       "        text-align: right;\n",
       "    }\n",
       "</style>\n",
       "<table border=\"1\" class=\"dataframe\">\n",
       "  <thead>\n",
       "    <tr style=\"text-align: right;\">\n",
       "      <th>type</th>\n",
       "      <th>Movie</th>\n",
       "      <th>TV Show</th>\n",
       "    </tr>\n",
       "    <tr>\n",
       "      <th>country</th>\n",
       "      <th></th>\n",
       "      <th></th>\n",
       "    </tr>\n",
       "  </thead>\n",
       "  <tbody>\n",
       "    <tr>\n",
       "      <th>Canada</th>\n",
       "      <td>87</td>\n",
       "      <td>52</td>\n",
       "    </tr>\n",
       "    <tr>\n",
       "      <th>France</th>\n",
       "      <td>48</td>\n",
       "      <td>37</td>\n",
       "    </tr>\n",
       "    <tr>\n",
       "      <th>India</th>\n",
       "      <td>645</td>\n",
       "      <td>52</td>\n",
       "    </tr>\n",
       "    <tr>\n",
       "      <th>Japan</th>\n",
       "      <td>44</td>\n",
       "      <td>124</td>\n",
       "    </tr>\n",
       "    <tr>\n",
       "      <th>Mexico</th>\n",
       "      <td>51</td>\n",
       "      <td>29</td>\n",
       "    </tr>\n",
       "    <tr>\n",
       "      <th>South Korea</th>\n",
       "      <td>32</td>\n",
       "      <td>101</td>\n",
       "    </tr>\n",
       "    <tr>\n",
       "      <th>Spain</th>\n",
       "      <td>78</td>\n",
       "      <td>35</td>\n",
       "    </tr>\n",
       "    <tr>\n",
       "      <th>Turkey</th>\n",
       "      <td>55</td>\n",
       "      <td>23</td>\n",
       "    </tr>\n",
       "    <tr>\n",
       "      <th>United Kingdom</th>\n",
       "      <td>162</td>\n",
       "      <td>174</td>\n",
       "    </tr>\n",
       "    <tr>\n",
       "      <th>United States</th>\n",
       "      <td>1545</td>\n",
       "      <td>789</td>\n",
       "    </tr>\n",
       "  </tbody>\n",
       "</table>\n",
       "</div>"
      ],
      "text/plain": [
       "type            Movie  TV Show\n",
       "country                       \n",
       "Canada             87       52\n",
       "France             48       37\n",
       "India             645       52\n",
       "Japan              44      124\n",
       "Mexico             51       29\n",
       "South Korea        32      101\n",
       "Spain              78       35\n",
       "Turkey             55       23\n",
       "United Kingdom    162      174\n",
       "United States    1545      789"
      ]
     },
     "execution_count": 139,
     "metadata": {},
     "output_type": "execute_result"
    }
   ],
   "source": [
    "topc.groupby(['country','type']).size().unstack(fill_value= 0)"
   ]
  }
 ],
 "metadata": {
  "kernelspec": {
   "display_name": "Python 3 (ipykernel)",
   "language": "python",
   "name": "python3"
  },
  "language_info": {
   "codemirror_mode": {
    "name": "ipython",
    "version": 3
   },
   "file_extension": ".py",
   "mimetype": "text/x-python",
   "name": "python",
   "nbconvert_exporter": "python",
   "pygments_lexer": "ipython3",
   "version": "3.12.4"
  }
 },
 "nbformat": 4,
 "nbformat_minor": 5
}
